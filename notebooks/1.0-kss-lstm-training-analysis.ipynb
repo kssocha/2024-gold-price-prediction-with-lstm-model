{
 "cells": [
  {
   "cell_type": "code",
   "execution_count": null,
   "metadata": {},
   "outputs": [],
   "source": [
    "import pandas as pd\n",
    "models_summary_df = pd.read_csv('/home/kssocha/Desktop/Nauka/portfolio/2024-gold-price-prediction-with-lstm-model/models/2024-04-17/2024-04-17_lstm_models_summary.csv')"
   ]
  },
  {
   "cell_type": "code",
   "execution_count": null,
   "metadata": {},
   "outputs": [],
   "source": [
    "models_summary_df[models_summary_df['stopped_epoch'] == models_summary_df['stopped_epoch'].max()]"
   ]
  },
  {
   "cell_type": "code",
   "execution_count": null,
   "metadata": {},
   "outputs": [],
   "source": [
    "models_summary_df[models_summary_df['best_performer'] == 'yes']"
   ]
  },
  {
   "cell_type": "code",
   "execution_count": null,
   "metadata": {},
   "outputs": [],
   "source": [
    "import json\n",
    "model_history_file_path = '/home/kssocha/Desktop/Nauka/portfolio/2024-gold-price-prediction-with-lstm-model/models/2024-04-17/2024-04-17-history/2024-04-17_lstm_model_history_27.json'\n",
    "\n",
    "# Read the JSON data from the file into a dictionary\n",
    "with open(model_history_file_path, 'r') as json_file:\n",
    "    data_dict = json.load(json_file)"
   ]
  },
  {
   "cell_type": "code",
   "execution_count": null,
   "metadata": {},
   "outputs": [],
   "source": [
    "import matplotlib.pyplot as plt\n",
    "plt.plot(data_dict['loss'], label='loss')\n",
    "plt.plot(data_dict['val_loss'], label='val_loss', alpha = 0.6)\n",
    "plt.legend()\n",
    "plt.xlabel('Epoch')\n",
    "plt.ylim(0, 0.015)\n",
    "plt.title(\"Model Loss = 'mean_squared_error' for Best Performer\")\n",
    "plt.show();"
   ]
  },
  {
   "cell_type": "code",
   "execution_count": null,
   "metadata": {},
   "outputs": [],
   "source": [
    "import matplotlib.pyplot as plt\n",
    "plt.plot(data_dict['mean_absolute_error'], label='mean_absolute_error')\n",
    "plt.plot(data_dict['val_mean_absolute_error'], label='val_mean_absolute_error', alpha =0.6)\n",
    "plt.legend()\n",
    "plt.xlabel('Epoch')\n",
    "plt.ylim(0, 0.15)\n",
    "plt.title(\"Model Mean Absolute Error for Best Performer\")\n",
    "plt.show();"
   ]
  }
 ],
 "metadata": {
  "kernelspec": {
   "display_name": ".venv",
   "language": "python",
   "name": "python3"
  },
  "language_info": {
   "codemirror_mode": {
    "name": "ipython",
    "version": 3
   },
   "file_extension": ".py",
   "mimetype": "text/x-python",
   "name": "python",
   "nbconvert_exporter": "python",
   "pygments_lexer": "ipython3",
   "version": "3.10.12"
  }
 },
 "nbformat": 4,
 "nbformat_minor": 2
}
